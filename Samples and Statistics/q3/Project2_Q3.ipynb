{
 "cells": [
  {
   "cell_type": "markdown",
   "metadata": {},
   "source": [
    "# EE511 Project 2 Q3"
   ]
  },
  {
   "cell_type": "markdown",
   "metadata": {},
   "source": [
    "### Let M = 10. Simulate (uniform) sampling with replacement from the outcomes 0, 1, 2, 3, …, M‐1."
   ]
  },
  {
   "cell_type": "markdown",
   "metadata": {},
   "source": [
    "##### a. Generate a histogram of the outcomes."
   ]
  },
  {
   "cell_type": "code",
   "execution_count": 46,
   "metadata": {},
   "outputs": [],
   "source": [
    "import numpy as np \n",
    "import matplotlib.pyplot as plt\n",
    "import random\n",
    "from scipy.stats import chisquare\n",
    "from scipy.stats import chi2"
   ]
  },
  {
   "cell_type": "code",
   "execution_count": 52,
   "metadata": {},
   "outputs": [
    {
     "data": {
      "image/png": "[encoded data removed]",
      "text/plain": [
       "<Figure size 432x288 with 1 Axes>"
      ]
     },
     "metadata": {
      "needs_background": "light"
     },
     "output_type": "display_data"
    },
    {
     "data": {
      "text/plain": [
       "<Figure size 432x288 with 0 Axes>"
      ]
     },
     "metadata": {},
     "output_type": "display_data"
    }
   ],
   "source": [
    "M = 10\n",
    "discrete_samples = [] \n",
    "for i in range(0,1000):\n",
    "    discrete_samples.append(np.random.randint(0,M))\n",
    "\n",
    "bins = np.arange(11)-.5\n",
    "\n",
    "# editing and labeling histogram\n",
    "plt.hist(discrete_samples, bins = bins, edgecolor = 'black', facecolor = 'green')\n",
    "plt.xlabel(\"Range of Values From 0 to 9\")\n",
    "plt.xticks(range(10))\n",
    "plt.ylabel(\"Number of Times Value is Sampled\")\n",
    "plt.title(\"Histogram of 1000 uniform samples on the interval [0,10)\")\n",
    "plt.show()\n",
    "plt.savefig(\"value_int_1000.png\")"
   ]
  },
  {
   "cell_type": "markdown",
   "metadata": {},
   "source": [
    "- The code above randomly generates an integer from [0,10) and appends it to an array 1000 times, for 1000 samples.\n",
    "- The histogram above shows the distribution of uniform randomly generated integers from [0,10) for 1000 samples\n",
    "- Because of the large sampling value, the integers are almost equally distributed."
   ]
  },
  {
   "cell_type": "markdown",
   "metadata": {},
   "source": [
    "##### b. Perform a statistical goodness‐of‐fit test to conclude at the 95% confidence level if your data fits samples from a discrete uniform distribution 0, 1, 2, …, 9."
   ]
  },
  {
   "cell_type": "code",
   "execution_count": 70,
   "metadata": {},
   "outputs": [
    {
     "name": "stdout",
     "output_type": "stream",
     "text": [
      "Chi squared test statistic is:  14.24\n",
      "Chi squared test p-value is:  0.11404042177600558\n",
      "The 95 percentile of chi squared distance with 9 degrees of freedom is: 16.918977604620448\n"
     ]
    },
    {
     "data": {
      "image/png": "[encoded data removed]",
      "text/plain": [
       "<Figure size 432x288 with 1 Axes>"
      ]
     },
     "metadata": {
      "needs_background": "light"
     },
     "output_type": "display_data"
    }
   ],
   "source": [
    "\n",
    "# this code counts the number of occurrences of each integer \n",
    "# and appends them all to an array\n",
    "count_arr = []\n",
    "expected_arr = [100,100,100,100,100,100,100,100,100,100] # we expect to see each integer 100 times in a uniform distribution \n",
    "for j in range(0,10):\n",
    "    count_arr.append(discrete_samples.count(j))\n",
    "\n",
    "chi_sq_res = chisquare(count_arr,expected_arr)\n",
    "print('Chi squared test statistic is: ', str(chi_sq_res.statistic)) #generated the calculated chi squared value\n",
    "print('Chi squared test p-value is: ', str(chi_sq_res.pvalue)) \n",
    "print('The 95 percentile of chi squared distance with',str(len(count_arr)-1),'degrees of freedom is:',str(chi2.ppf(0.95,len(count_arr)-1))) #generated the theoretical chi squared value at 95% percentile  \n",
    "    \n",
    "#print(count_arr)\n",
    "# create plot\n",
    "n_groups = 10\n",
    "fig, ax = plt.subplots()\n",
    "index = np.arange(n_groups)\n",
    "bar_width = 0.35\n",
    "opacity = 0.8\n",
    "\n",
    "rects1 = plt.bar(index, count_arr, bar_width,\n",
    "alpha=opacity,\n",
    "color='b',\n",
    "label='Sampled Values')\n",
    "\n",
    "rects2 = plt.bar(index + bar_width, expected_arr, bar_width,\n",
    "alpha=opacity,\n",
    "color='orange',\n",
    "label='Expected Values')\n",
    "\n",
    "plt.xlabel('Number')\n",
    "plt.ylabel('Number of times number is sampled/expected')\n",
    "plt.title('Samples/Expected Values By Number')\n",
    "plt.xticks(index + bar_width, ('0','1', '2', '3', '4', '5','6','7','8','9'))\n",
    "plt.legend()\n",
    "\n",
    "plt.tight_layout()\n",
    "plt.show()"
   ]
  },
  {
   "cell_type": "markdown",
   "metadata": {},
   "source": [
    "- Based on the data from above, we can make the conclusion that the data we sampled is a good fit and from the assumed model. \n",
    "- The _X_<sup>2</sup> test statistic value we calculated is 14.24, which is less than the 95% percentile _X_<sup>2</sup> distance with nine degrees of freedom.  \n",
    "- The CDF of the theoretical _X_<sup>2</sup> is 16.92, which means that the chance of the value drawn from a _X_<sup>2</sup> random variable is below 16.92 is 95%.\n",
    "- Also, the _p_ value that was calculated is ~0.11, much greater than 0.05, and thus we can accept the null hypothesis that this data comes from the expected model. \n",
    "- The graph above also compares the sampled values to the expected values of every digit."
   ]
  },
  {
   "cell_type": "markdown",
   "metadata": {},
   "source": [
    "##### Repeat (b) to see if your data (the same data from b) instead fit an alternate uniform distribution 1, 2, 3, …, 10."
   ]
  },
  {
   "cell_type": "code",
   "execution_count": 73,
   "metadata": {},
   "outputs": [
    {
     "name": "stdout",
     "output_type": "stream",
     "text": [
      "Chi squared test statistic is:  inf\n",
      "Chi squared test p-value is:  0.0\n",
      "The 95 percentile of chi squared distance with 9 degrees of freedom is: 16.918977604620448\n"
     ]
    }
   ],
   "source": [
    "# this code counts the number of occurrences of each integer \n",
    "# and appends them all to an array\n",
    "count_arr = []\n",
    "expected_arr_10 = [100,100,100,100,100,100,100,100,100,0] \n",
    "# we expect to see each integer 100 times in a uniform distribution \n",
    "# except for the number 10, which should show up zero times since it \n",
    "# is not part of the sampling space of the original data\n",
    "for j in range(0,10):\n",
    "    count_arr.append(discrete_samples.count(j))\n",
    "\n",
    "chi_sq_res = chisquare(count_arr,expected_arr_10)\n",
    "print('Chi squared test statistic is: ', str(chi_sq_res.statistic)) #generated the calculated chi squared value\n",
    "print('Chi squared test p-value is: ', str(chi_sq_res.pvalue)) \n",
    "print('The 95 percentile of chi squared distance with',str(len(count_arr)-1),'degrees of freedom is:',str(chi2.ppf(0.95,len(count_arr)-1))) #generated the theoretical chi squared value at 95% percentile  \n",
    "    \n",
    "#print(count_arr)\n",
    "# create plot\n"
   ]
  },
  {
   "cell_type": "markdown",
   "metadata": {},
   "source": [
    "- From the results generated on this alternate uniform distirbution of 1,2, .., 10, it is clear that our sampled data is not a good fit to this distribution. \n",
    "- Intuitively, 10 is part of the new distribution, but not the sampling, so it will never been seen in the sampling data, making it not a good fit.\n",
    "- Based on the _X_<sup>2</sup> goodness-of-fit test, a value of infinity was generated for the _X_<sup>2</sup> test statistic, and a 0 _p_ value was also generated. \n",
    "- From the 0 _p_ value, we can reject the null hypothesis, meaning that our sampled data does not fit this distribution\n",
    "- From this goodness-of-fit test, there is a 95% chance that the value drawn from a _X_<sup>2</sup> random variable is below 16.92 is 95%, and our _X_<sup>2</sup> is infinity, another piece of evidence to state that it does not fit this distribution."
   ]
  },
  {
   "cell_type": "code",
   "execution_count": null,
   "metadata": {},
   "outputs": [],
   "source": []
  }
 ],
 "metadata": {
  "kernelspec": {
   "display_name": "Python 3",
   "language": "python",
   "name": "python3"
  },
  "language_info": {
   "codemirror_mode": {
    "name": "ipython",
    "version": 3
   },
   "file_extension": ".py",
   "mimetype": "text/x-python",
   "name": "python",
   "nbconvert_exporter": "python",
   "pygments_lexer": "ipython3",
   "version": "3.7.3"
  }
 },
 "nbformat": 4,
 "nbformat_minor": 4
}
