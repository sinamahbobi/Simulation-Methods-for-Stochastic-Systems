{
 "cells": [
  {
   "cell_type": "markdown",
   "metadata": {},
   "source": [
    "# EE511 Project 3"
   ]
  },
  {
   "cell_type": "markdown",
   "metadata": {},
   "source": [
    "### Question 1"
   ]
  },
  {
   "cell_type": "markdown",
   "metadata": {},
   "source": [
    "A components manufacturer delivers a batch of 125 microchips to a parts distributor. The distributor checks for lot conformance by counting the number of defective chips in a random sampling (without replacement) of the lot. If the distributor finds any defective chips in the sample they reject the entire lot. Suppose that there are six defective units in the lot of 125 microchips. Simulate the lot sampling to estimate the probability that the distributor will reject the lot if it tests five microchips. What is the fewest number of microchips that the distributor should test to reject this lot 95% of the time?"
   ]
  },
  {
   "cell_type": "code",
   "execution_count": 2,
   "metadata": {},
   "outputs": [],
   "source": [
    "import numpy as np\n",
    "import matplotlib.pyplot as plt\n",
    "\n"
   ]
  },
  {
   "cell_type": "code",
   "execution_count": 7,
   "metadata": {},
   "outputs": [],
   "source": [
    "good_chips = np.ones(119) # ones indicate 119 good chips out of 125\n",
    "bad_chips = np.zeros(6)   # zeros indicate 6 defective chips out of 125\n",
    "chips = np.concatenate((good_chips, bad_chips)) # concatenate for total chips\n",
    "\n",
    "reject_count = 0;\n",
    "\n",
    "\n",
    "for i in range(0,10000): #100000 samples to estimate probability\n",
    "    chip_sample = np.random.choice(chips, 5)\n",
    "    #print(chip_sample)\n",
    "    if (0 in chip_sample):\n",
    "        reject_count += 1\n",
    "\n",
    "\n",
    "estimated_reject = reject_count/10000\n",
    "     \n",
    "      \n",
    "      \n",
    "      \n",
    "      \n",
    "      "
   ]
  },
  {
   "cell_type": "markdown",
   "metadata": {},
   "source": [
    "- The estimated probability that the the distributor will reject the lot if it tests five microchips is:  0.2068\n",
    "- Now, we need to find the fewest number of microchips that the distributor should test to reject the lot 95% of the time."
   ]
  },
  {
   "cell_type": "code",
   "execution_count": 8,
   "metadata": {},
   "outputs": [
    {
     "data": {
      "image/png": "[encoded data removed]",
      "text/plain": [
       "<Figure size 432x288 with 1 Axes>"
      ]
     },
     "metadata": {
      "needs_background": "light"
     },
     "output_type": "display_data"
    },
    {
     "data": {
      "text/plain": [
       "<Figure size 432x288 with 0 Axes>"
      ]
     },
     "metadata": {},
     "output_type": "display_data"
    }
   ],
   "source": [
    "estimated_arr = []\n",
    "for k in range(0,20):\n",
    "    for i in range(1,126):   # testing sampling values from 1 to 125\n",
    "        reject_count = 0\n",
    "        estimated_rejection = 0\n",
    "\n",
    "        for j in range(0,10000) : #10000 samples for each sampling length\n",
    "            chip_sample = np.random.choice(chips, i)\n",
    "            #print(chip_sample)\n",
    "            if (0 in chip_sample):\n",
    "                reject_count += 1\n",
    "        estimated_rejection = reject_count/10000\n",
    "        if (estimated_rejection >= 0.95):\n",
    "            sample_value = i\n",
    "            estimated_arr.append(sample_value)\n",
    "            break\n",
    "\n",
    "plt.hist(estimated_arr, bins = 3, edgecolor = 'black', facecolor = 'orange')\n",
    "plt.xlabel(\"Values of Minimum Number of Microchips Distributor Should Test\")\n",
    "plt.xticks(np.arange(60,63))\n",
    "plt.ylabel(\"# of Times Value is Seen in 20 Experiments\")\n",
    "plt.title(\"Histogram of Microchips Distributor Should Test in 20 Experiments\")\n",
    "plt.tight_layout()\n",
    "plt.show()\n",
    "plt.savefig(\"Project1_Q1.png\")"
   ]
  },
  {
   "cell_type": "markdown",
   "metadata": {},
   "source": [
    "#### Q1 Analysis"
   ]
  },
  {
   "cell_type": "markdown",
   "metadata": {},
   "source": [
    "- The estimated probability that the the distributor will reject the lot if it tests five microchips is:  0.2166. This experiment was done with 10000 samples, and the number of rejections divided by the total number of samples (10000) was used to experimentally estimate this probability.\n",
    "- The above graph is a histogram of the minimum number of microchips the distributor should test for 20 different experiments. \n",
    "    - For each experiment, at each value of n, where n equals the number of chips selected from the 125, n chips were selected 10000 times to estimate the probability. This was done at every value of n, and this experiment was done 20 times.\n",
    "    - In 20 experiments the values were either 60,61, or 62, depending on the experiment. These values are the fewest number of microchips that the distributor should reject 95% of the time for each experiment."
   ]
  },
  {
   "cell_type": "code",
   "execution_count": null,
   "metadata": {},
   "outputs": [],
   "source": []
  }
 ],
 "metadata": {
  "kernelspec": {
   "display_name": "Python 3",
   "language": "python",
   "name": "python3"
  },
  "language_info": {
   "codemirror_mode": {
    "name": "ipython",
    "version": 3
   },
   "file_extension": ".py",
   "mimetype": "text/x-python",
   "name": "python",
   "nbconvert_exporter": "python",
   "pygments_lexer": "ipython3",
   "version": "3.7.3"
  }
 },
 "nbformat": 4,
 "nbformat_minor": 4
}
