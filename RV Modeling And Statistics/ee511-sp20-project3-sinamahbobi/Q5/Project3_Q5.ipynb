{
 "cells": [
  {
   "cell_type": "markdown",
   "metadata": {},
   "source": [
    "#### Question 5"
   ]
  },
  {
   "cell_type": "markdown",
   "metadata": {},
   "source": [
    "Use the accept=reject method to sample from the following distribution p<sub>j</sub> by sampling from the (non-optimal) uniform auxiliary distribution (q<sub>j</sub> = .05 for j = 1, ...,20):\n",
    "p<sub>1</sub> = p<sub>2</sub> = p<sub>3</sub> = p<sub>4</sub> = p<sub>5</sub> = .06, p<sub>6</sub> = p<sub>9</sub> = 0.15, p<sub>7</sub> = p<sub>10</sub> = 0.13, p<sub>8</sub> = 0.14. Estimate the efficiency of your sampler with the following ratio:  $$ Efficiency = \\frac{accepted}{accepted + rejected} $$ Compare the estimate of the efficiency to the theoretical efficiency given your choice for the constant c."
   ]
  },
  {
   "cell_type": "code",
   "execution_count": 54,
   "metadata": {},
   "outputs": [],
   "source": [
    "import numpy as np\n",
    "import matplotlib.pyplot as plt\n",
    "from scipy import stats"
   ]
  },
  {
   "cell_type": "code",
   "execution_count": 95,
   "metadata": {},
   "outputs": [
    {
     "name": "stdout",
     "output_type": "stream",
     "text": [
      "Sampled expected value of X: 6.438764957896292\n",
      "Theoretical expected value of X:  6.4799999999999995\n",
      "Sampled variance of X: 7.238715921856701\n",
      "Theoretical variance of X: 7.7223058169667596\n",
      "Measured efficiency =  0.6769\n",
      "Theoretical efficiency =  0.6666666666666666\n"
     ]
    },
    {
     "data": {
      "image/png": "[encoded data removed]",
      "text/plain": [
       "<Figure size 432x288 with 1 Axes>"
      ]
     },
     "metadata": {
      "needs_background": "light"
     },
     "output_type": "display_data"
    }
   ],
   "source": [
    "p = (1/100)*np.array([6, 6, 6, 6, 6, 15, 13, 14, 15 ,13])\n",
    "\n",
    "X = []\n",
    "\n",
    "k = 0\n",
    "for i in range(0,10000): # 10000 trials\n",
    "   \n",
    "    k += 1  #total number of samples, accepted + rejected\n",
    "    #print(k)\n",
    "    j = int(1 + np.floor(10*np.random.rand()))   # Get Uniform j\n",
    "    if (1.5*np.random.rand()) < p[j-1]/0.1: # Accept p(j) if U<p(j)/c, q(j)= 0.1\n",
    "        X.append(j)\n",
    "        \n",
    "\n",
    "\n",
    "#print(k)\n",
    "#print(len(C))\n",
    "xk = np.arange(1,11)\n",
    "pk = (.06, .06, .06, .06, .06, .15, .13, .14, .15 ,.13)\n",
    "custm = stats.rv_discrete(name='custm', values=(xk, pk))\n",
    "num_bins = np.arange(12)-.5\n",
    "fig, ax = plt.subplots()\n",
    "\n",
    "# the histogram of the data\n",
    "n, bins, patches = ax.hist(X, num_bins, density=1, edgecolor = 'black')\n",
    "\n",
    "# add a 'best fit' line\n",
    "ax.plot(xk, custm.pmf(xk), 'ro', ms=8, mec='r')\n",
    "ax.vlines(xk, 0, custm.pmf(xk), colors='r', linestyles='-', lw=2)\n",
    "plt.xticks(range(11))\n",
    "plt.xlabel(\"Values Accepted\")\n",
    "plt.ylabel(\"Density of Values Seen\")\n",
    "plt.title('Histogram of Values Accepted and Target Distribution PMF')\n",
    "estimated_eff = len(X)/k\n",
    "theoretical_eff = 1/1.5\n",
    "sample_var = np.var(X)\n",
    "theo_var = 0\n",
    "for i in range(1,11):\n",
    "    theo_var += i*i*p[i-1]\n",
    "theo_var = theo_var - np.mean(X)* np.mean(X)\n",
    "\n",
    "plt.savefig(\"Project3_Q5.png\")\n",
    "print('Sampled expected value of X:',str(np.mean(X)))\n",
    "print(\"Theoretical expected value of X: \", str(np.dot(p,np.arange(1,11))))\n",
    "print('Sampled variance of X:',str(sample_var))\n",
    "print('Theoretical variance of X:',str(theo_var))\n",
    "print('Measured efficiency = ', str(estimated_eff))\n",
    "print('Theoretical efficiency = ', str(theoretical_eff ))\n"
   ]
  },
  {
   "cell_type": "markdown",
   "metadata": {},
   "source": [
    "##### Q5 Analysis"
   ]
  },
  {
   "cell_type": "markdown",
   "metadata": {},
   "source": [
    "- The histogram above shows the distribution of accepted values, along with the PMF in red. This method produces densities that are very similar to that of the theoretical distribution. \n",
    "- This can also be seen in the measured efficiency, which is just a little higher than the theoretical efficiency. \n",
    "- The sampled expected value and variance are also within hundreths of the theoretical values, another testament to the efficiency of this method at 10000 trails. "
   ]
  },
  {
   "cell_type": "code",
   "execution_count": null,
   "metadata": {},
   "outputs": [],
   "source": []
  }
 ],
 "metadata": {
  "kernelspec": {
   "display_name": "Python 3",
   "language": "python",
   "name": "python3"
  },
  "language_info": {
   "codemirror_mode": {
    "name": "ipython",
    "version": 3
   },
   "file_extension": ".py",
   "mimetype": "text/x-python",
   "name": "python",
   "nbconvert_exporter": "python",
   "pygments_lexer": "ipython3",
   "version": "3.7.3"
  }
 },
 "nbformat": 4,
 "nbformat_minor": 4
}
