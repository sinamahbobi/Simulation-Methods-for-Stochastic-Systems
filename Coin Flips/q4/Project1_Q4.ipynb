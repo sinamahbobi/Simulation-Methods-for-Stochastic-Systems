{
 "cells": [
  {
   "cell_type": "code",
   "execution_count": 8,
   "metadata": {},
   "outputs": [
    {
     "name": "stdin",
     "output_type": "stream",
     "text": [
      "Please type in a positive number of heads:  1000\n"
     ]
    },
    {
     "name": "stdout",
     "output_type": "stream",
     "text": [
      "Number of heads: 1000\n",
      "Number of tosses needed: 1990\n"
     ]
    }
   ],
   "source": [
    "import numpy as np\n",
    "import random\n",
    "import matplotlib.pyplot as plt\n",
    "\n",
    "def flip(p):\n",
    "    return True if np.random.random() < p else False  \n",
    "\n",
    "\n",
    "heads_goal = int(input('Please type in a positive number of heads: '))\n",
    "\n",
    "\n",
    "num_heads = 0\n",
    "num_flips = 0\n",
    "\n",
    "\n",
    "while num_heads < heads_goal:\n",
    "    if flip(0.5):\n",
    "        num_heads += 1\n",
    "        num_flips += 1\n",
    "    else:\n",
    "        num_flips += 1\n",
    "\n",
    "\n",
    "print(\"Number of heads: {}\" .format(num_heads))\n",
    "print(\"Number of tosses needed: {}\" .format(num_flips))"
   ]
  },
  {
   "cell_type": "code",
   "execution_count": null,
   "metadata": {},
   "outputs": [],
   "source": []
  }
 ],
 "metadata": {
  "kernelspec": {
   "display_name": "Python 3",
   "language": "python",
   "name": "python3"
  },
  "language_info": {
   "codemirror_mode": {
    "name": "ipython",
    "version": 3
   },
   "file_extension": ".py",
   "mimetype": "text/x-python",
   "name": "python",
   "nbconvert_exporter": "python",
   "pygments_lexer": "ipython3",
   "version": "3.7.3"
  }
 },
 "nbformat": 4,
 "nbformat_minor": 4
}
