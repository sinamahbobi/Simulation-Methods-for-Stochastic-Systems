{
 "cells": [
  {
   "cell_type": "markdown",
   "metadata": {},
   "source": [
    "# EE511 Project 5"
   ]
  },
  {
   "cell_type": "markdown",
   "metadata": {},
   "source": [
    "### Question 1"
   ]
  },
  {
   "cell_type": "code",
   "execution_count": 1,
   "metadata": {},
   "outputs": [],
   "source": [
    "import numpy as np\n",
    "import matplotlib.pyplot as plt\n",
    "from scipy import random\n",
    "import math\n"
   ]
  },
  {
   "cell_type": "code",
   "execution_count": 47,
   "metadata": {},
   "outputs": [
    {
     "data": {
      "image/png": "[encoded data removed]",
      "text/plain": [
       "<Figure size 432x288 with 1 Axes>"
      ]
     },
     "metadata": {},
     "output_type": "display_data"
    },
    {
     "name": "stdout",
     "output_type": "stream",
     "text": [
      "The minimum break time is:  46.01982101404659\n",
      "The maximum break time is:  60.379024485408245\n",
      "The mean of the expected break time is:  53.78303269582902\n"
     ]
    }
   ],
   "source": [
    "break_time_arr = np.zeros(1000)\n",
    "for i in range(0,1000):\n",
    "    mean = 1/25 #mean service time\n",
    "    index = 0\n",
    "    na = 0 # number of arrivals\n",
    "    nd = 0 # number of departures\n",
    "    N = 0 # number of customers\n",
    "    t = 0 # current time\n",
    "    T = 100; # Total hours of operation\n",
    "    service_time = 0 # Service time of one job\n",
    "    total_break_time = 0 # Total break time \n",
    "    service_comp_time = math.inf  # time after completion of current service\n",
    "\n",
    "    time_array = np.empty(100000)\n",
    "    time_array[index] = np.random.exponential(1/4)\n",
    "    arr_rates = [4,7,10,13,16,19,16,13,10,7] #Variable poisson rates\n",
    "    \n",
    "    #print(time_array.shape)\n",
    "    #print(time_array)\n",
    "    \n",
    "    while(time_array[index] < T):\n",
    "        lamda = 19\n",
    "        time = time_array[index]\n",
    "        while (time < T):\n",
    "            u1 = random.random()\n",
    "            time = time - math.log(u1)/lamda\n",
    "            u2 = random.random()\n",
    "            modulus_time = (int(time) % 10) - 1\n",
    "            #print(modulus_time)\n",
    "            comp_time = arr_rates[modulus_time+1]/lamda\n",
    "            if (u2 <= comp_time):\n",
    "                time_array[index+1] = time\n",
    "                index = index + 1\n",
    "                break\n",
    "    index = 0 \n",
    "    total_break = time_array[index]\n",
    "    arrival_time = time_array[index] \n",
    "\n",
    "    while(arrival_time <= T or N > 0): #Continue serving until no more \n",
    "        #customers arrive or queue has been cleared\n",
    "        #Case 1\n",
    "        if((arrival_time <= service_comp_time) and (arrival_time <=T)):\n",
    "            if(t < arrival_time): #Update current time if only it is less than next arrival\n",
    "                t=arrival_time\n",
    "            na += 1\n",
    "            N += 1\n",
    "            if(index == len(time_array)-1):\n",
    "                arrival_time = time_array[index]\n",
    "            else:\n",
    "                arrival_time = time_array[index + 1]\n",
    "            if(N==1):\n",
    "                service_comp_time = t + np.random.exponential(mean)\n",
    "                t = service_comp_time\n",
    "            index += 1\n",
    "\n",
    "        # Case 2\n",
    "        if((service_comp_time < arrival_time) and (service_comp_time <= T)):\n",
    "            N -= 1\n",
    "            nd += 1\n",
    "            t = service_comp_time\n",
    "\n",
    "            break_time = 0\n",
    "            if(N == 0): \n",
    "                service_comp_time = math.inf\n",
    "\n",
    "                while(t < arrival_time):\n",
    "\n",
    "                    inc = 0.3 * random.random()\n",
    "                    break_time = break_time + inc\n",
    "                    t = t + inc\n",
    "                total_break_time =  total_break_time+ break_time\n",
    "            \n",
    "\n",
    "            else:\n",
    "                service_comp_time = t + np.random.exponential(mean)\n",
    "                t = service_comp_time\n",
    "            if (arrival_time > T):\n",
    "                service_comp_time = t\n",
    "            #total_break_time_arr.append(total_break_time)\n",
    "        # case 3\n",
    "        if(min(arrival_time,service_comp_time) > T and N >0):\n",
    "            t = service_comp_time  #Update the time\n",
    "            N = N - 1 #clear remaining customer\n",
    "            nd +=1  #increase the departures\n",
    "            service_comp_time = t+ np.random.exponential(mean) #add the service times\n",
    "\n",
    "    # terminal case\n",
    "\n",
    "    if(min(arrival_time,service_comp_time) > T and N == 0):\n",
    "        #Queue clear\n",
    "        Tp = max(t-T, service_comp_time - T) #Tp is the duration for which\n",
    "        #server works to clear up queue after arrivals stop\n",
    "    #total_break_time_arr.append(total_break_time)\n",
    "    #print(total_break_time)   \n",
    "    total_break_time_arr[i] = total_break_time\n",
    "\n",
    "\n",
    "\n",
    "plt.hist(total_break_time_arr,bins = 14, edgecolor = 'black', facecolor = 'blue' )\n",
    "#plt.xticks(np.arange(70,120))\n",
    "plt.xlabel(\"Expected Value of Break Time\")\n",
    "plt.ylabel(\"# of Times Value Occurred\")\n",
    "plt.title(\"Expected Value of Break Time for 1000 Trials \")\n",
    "plt.style.use('fivethirtyeight')\n",
    "plt.show()\n",
    "print(\"The minimum break time is: \",str(min(total_break_time_arr)))\n",
    "print(\"The maximum break time is: \",str(max(total_break_time_arr)))\n",
    "print(\"The mean of the expected break time is: \",str(total_break_time_arr.mean()))"
   ]
  },
  {
   "cell_type": "markdown",
   "metadata": {},
   "source": [
    "### Q1 Analysis\n",
    "- The histogram above shows the distribution of the different expected break values from this simulation for 1000 different trials.\n",
    "- The values of break time range from around 46 to 60 for the 1000 trials, and this distribution generated has a mean of around 54. \n"
   ]
  },
  {
   "cell_type": "code",
   "execution_count": null,
   "metadata": {},
   "outputs": [],
   "source": []
  }
 ],
 "metadata": {
  "kernelspec": {
   "display_name": "Python 3",
   "language": "python",
   "name": "python3"
  },
  "language_info": {
   "codemirror_mode": {
    "name": "ipython",
    "version": 3
   },
   "file_extension": ".py",
   "mimetype": "text/x-python",
   "name": "python",
   "nbconvert_exporter": "python",
   "pygments_lexer": "ipython3",
   "version": "3.7.4"
  }
 },
 "nbformat": 4,
 "nbformat_minor": 4
}
